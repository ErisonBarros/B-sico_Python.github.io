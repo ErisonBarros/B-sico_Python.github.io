{
  "nbformat": 4,
  "nbformat_minor": 0,
  "metadata": {
    "colab": {
      "name": "Plotando Mapas Interativos com Python.ipynb",
      "provenance": [],
      "authorship_tag": "ABX9TyOg6Z8lJaoQK88Z4tp0vDd6",
      "include_colab_link": true
    },
    "kernelspec": {
      "name": "python3",
      "display_name": "Python 3"
    },
    "language_info": {
      "name": "python"
    }
  },
  "cells": [
    {
      "cell_type": "markdown",
      "metadata": {
        "id": "view-in-github",
        "colab_type": "text"
      },
      "source": [
        "<a href=\"https://colab.research.google.com/github/ErisonBarros/Basico_Python.github.io/blob/erison.barros/Plotando_Mapas_Interativos_com_Python.ipynb\" target=\"_parent\"><img src=\"https://colab.research.google.com/assets/colab-badge.svg\" alt=\"Open In Colab\"/></a>"
      ]
    },
    {
      "cell_type": "markdown",
      "metadata": {
        "id": "98Yt8Tcn5Co6"
      },
      "source": [
        "#Plotando Mapas Interativos com Python\n",
        "\n",
        "O folium é uma biblioteca do Python que facilita a visualização dos dados em um mapa interativo diretamente no ambiente do jupyter notebook. Ela é muito intuitiva e tem uma implementação bem fácil.\n",
        "\n",
        "\n",
        "**Colocando a mão na massa**\n",
        "\n",
        "\n",
        "<a href=\"https://imgbb.com/\"><img src=\"https://i.ibb.co/6PJcMpt/giphy.gif\" alt=\"giphy\" border=\"0\"></a>\n",
        "\n",
        "\n"
      ]
    },
    {
      "cell_type": "code",
      "metadata": {
        "id": "hc37cZnL5B3Y"
      },
      "source": [
        ""
      ],
      "execution_count": null,
      "outputs": []
    },
    {
      "cell_type": "markdown",
      "metadata": {
        "id": "_crGEwNj5DnX"
      },
      "source": [
        ""
      ]
    }
  ]
}
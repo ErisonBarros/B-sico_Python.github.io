{
  "nbformat": 4,
  "nbformat_minor": 0,
  "metadata": {
    "colab": {
      "name": "lidar_colab.ipynb",
      "provenance": []
    },
    "kernelspec": {
      "display_name": "Python 3",
      "language": "python",
      "name": "python3"
    },
    "language_info": {
      "codemirror_mode": {
        "name": "ipython",
        "version": 3
      },
      "file_extension": ".py",
      "mimetype": "text/x-python",
      "name": "python",
      "nbconvert_exporter": "python",
      "pygments_lexer": "ipython3",
      "version": "3.8.5"
    }
  },
  "cells": [
    {
      "cell_type": "markdown",
      "metadata": {
        "id": "AMhnFYl5J4hK"
      },
      "source": [
        "<a href=\"https://colab.research.google.com/github/giswqs/lidar/blob/master/examples/lidar_colab.ipynb\" target=\"_parent\"><img src=\"https://colab.research.google.com/assets/colab-badge.svg\" alt=\"Run In Colab\"/></a>"
      ]
    },
    {
      "cell_type": "code",
      "metadata": {
        "colab": {
          "base_uri": "https://localhost:8080/"
        },
        "id": "JDX8t-xpI1st",
        "outputId": "92deb78e-3477-44e4-be09-be8aeeecf41f"
      },
      "source": [
        "import subprocess\n",
        "\n",
        "try:\n",
        "    import lidar\n",
        "except ImportError:\n",
        "    print('Installing lidar ...')\n",
        "    subprocess.check_call([\"python\", '-m', 'pip', 'install', 'lidar'])"
      ],
      "execution_count": 1,
      "outputs": [
        {
          "output_type": "stream",
          "name": "stdout",
          "text": [
            "Installing lidar ...\n"
          ]
        }
      ]
    },
    {
      "cell_type": "code",
      "metadata": {
        "colab": {
          "base_uri": "https://localhost:8080/"
        },
        "id": "_m14VPJmI7rl",
        "outputId": "1444edb2-4540-4cab-e609-e23e4bcf8456"
      },
      "source": [
        "import os\n",
        "import pkg_resources\n",
        "from lidar import *\n",
        "\n",
        "# identify the sample data directory of the package\n",
        "package_name = 'lidar'\n",
        "data_dir = pkg_resources.resource_filename(package_name, 'data/')\n",
        "\n",
        "# use the sample dem. Change it to your own dem if needed\n",
        "in_dem = os.path.join(data_dir, 'dem.tif')\n",
        "# set the output directory\n",
        "out_dir = os.getcwd()\n",
        "\n",
        "# parameters for identifying sinks and delineating nested depressions\n",
        "min_size = 1000      # minimum number of pixels as a depression\n",
        "min_depth = 0.5      # minimum depth as a depression\n",
        "interval = 0.3       # slicing interval for the level-set method\n",
        "bool_shp = True      # output shapefiles for each individual level\n",
        "\n",
        "# extracting sinks based on user-defined minimum depression size\n",
        "out_dem = os.path.join(out_dir, \"median.tif\")\n",
        "in_dem = MedianFilter(in_dem, kernel_size=3, out_file=out_dem)\n",
        "sink_path = ExtractSinks(in_dem, min_size, out_dir)\n",
        "dep_id_path, dep_level_path = DelineateDepressions(sink_path, \n",
        "                                                   min_size, \n",
        "                                                   min_depth, \n",
        "                                                   interval, \n",
        "                                                   out_dir, \n",
        "                                                   bool_shp)\n",
        "print('Results are saved in: {}'.format(out_dir))"
      ],
      "execution_count": 2,
      "outputs": [
        {
          "output_type": "stream",
          "name": "stdout",
          "text": [
            "Median filtering ...\n",
            "Run time: 0.1331 seconds\n",
            "Saving dem ...\n",
            "Loading data ...\n",
            "min = 379.70, max = 410.72, no_data = -3.402823e+38, cell_size = 1.0\n",
            "Depression filling ...\n",
            "Saving filled dem ...\n",
            "Region grouping ...\n",
            "Computing properties ...\n",
            "Saving sink dem ...\n",
            "Saving refined dem ...\n",
            "Converting raster to vector ...\n",
            "Total run time:\t\t\t 0.1185 s\n",
            "\n",
            "Reading data ...\n",
            "rows, cols: (400, 400)\n",
            "Pixel resolution: 1.0\n",
            "Read data time: 0.0035 seconds\n",
            "Data preparation time: 0.0150 seconds\n",
            "Total number of regions: 1\n",
            "Processing Region # 1 ...\n",
            "=========== Run time statistics =========== \n",
            "(rows, cols):\t\t\t (400, 400)\n",
            "Pixel resolution:\t\t 1.0 m\n",
            "Number of regions:\t\t 1\n",
            "Data preparation time:\t\t 0.0150 s\n",
            "Identify level time:\t\t 0.3880 s\n",
            "Write image time:\t\t 0.0040 s\n",
            "Polygonize time:\t\t 0.0103 s\n",
            "Extract level time:\t\t 0.0749 s\n",
            "Total run time:\t\t\t 0.4950 s\n",
            "Results are saved in: /content\n"
          ]
        }
      ]
    },
    {
      "cell_type": "code",
      "metadata": {
        "id": "wspuVgIQySyi",
        "outputId": "ed10980a-062c-4da5-da00-729d8362d0ae",
        "colab": {
          "base_uri": "https://localhost:8080/",
          "height": 35
        }
      },
      "source": [
        "data_dir"
      ],
      "execution_count": 3,
      "outputs": [
        {
          "output_type": "execute_result",
          "data": {
            "application/vnd.google.colaboratory.intrinsic+json": {
              "type": "string"
            },
            "text/plain": [
              "'/usr/local/lib/python3.7/dist-packages/lidar/data/'"
            ]
          },
          "metadata": {},
          "execution_count": 3
        }
      ]
    },
    {
      "cell_type": "code",
      "metadata": {
        "id": "Kf0AA6PyyZ94",
        "outputId": "d7a75092-8ef1-4bb1-8788-79c2f684ecb3",
        "colab": {
          "base_uri": "https://localhost:8080/",
          "height": 35
        }
      },
      "source": [
        "out_dir = os.getcwd()\n",
        "out_dir"
      ],
      "execution_count": 5,
      "outputs": [
        {
          "output_type": "execute_result",
          "data": {
            "application/vnd.google.colaboratory.intrinsic+json": {
              "type": "string"
            },
            "text/plain": [
              "'/content'"
            ]
          },
          "metadata": {},
          "execution_count": 5
        }
      ]
    },
    {
      "cell_type": "code",
      "metadata": {
        "id": "swCBRGDmyrnn"
      },
      "source": [
        ""
      ],
      "execution_count": null,
      "outputs": []
    }
  ]
}